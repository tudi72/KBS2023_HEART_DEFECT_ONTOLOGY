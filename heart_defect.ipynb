{
 "cells": [
  {
   "cell_type": "code",
   "execution_count": 1,
   "metadata": {},
   "outputs": [
    {
     "name": "stdout",
     "output_type": "stream",
     "text": [
      "c:\\Users\\Fish\\Documents\\TUDORITA\\AN 4 SEM 2\\KBS\\KBS2023_HEART_DEFECT_ONTOLOGY\n"
     ]
    }
   ],
   "source": [
    "! echo %CD%\n",
    "%load_ext autoreload\n",
    "%autoreload 2"
   ]
  },
  {
   "cell_type": "code",
   "execution_count": 2,
   "metadata": {},
   "outputs": [],
   "source": [
    "from utils.ontology import Ontology\n",
    "from utils.fuzzy import Fuzzy\n",
    "from utils.sparql import SPARQL"
   ]
  },
  {
   "cell_type": "code",
   "execution_count": 3,
   "metadata": {},
   "outputs": [],
   "source": [
    "COMPETENCY_QUERIES = [\n",
    "    '(evaluate \"[C1]: List all congenital heart diseases\")'\n",
    "    '(concept-instances CHD)',\n",
    "    \n",
    "    '(evaluate \"[C2]: How can I diagnose myself if I have arrythmia?\")',\n",
    "    '(individual-fillers ARRHYTHMIA has-diagnosis-method-at-home)',\n",
    "    \n",
    "    '(evaluate \"[C3]: What are some proper treatments for a specific heart disease?\")'\n",
    "    '(retrieve (?y) (and (?x CHD)  (?x ?y has-treatment)))',\n",
    "    \n",
    "    '(evaluate \"[C4]: What does it mean when I have shortness of breath?\")',\n",
    "    '(individual-fillers shortness_of_breath  symptom-for)'\n",
    "\n",
    "    '(evaluate \"[C5]: What does it mean when it feels painful in the chest area\")',\n",
    "    '(individual-fillers chest_area_pain symptom-for)',\n",
    "\n",
    "    '(evaluate \"[C5]: What heart defects have similar symptoms to fainting and palpitations?\")',\n",
    "    '(individual-fillers (and fainting shortness_of_breath) symptom-for)',\n",
    "\n",
    "    '(evaluate \"[C8]: Can patient with heart disease choose an invasive treatment?)'\n",
    "\n",
    "]"
   ]
  },
  {
   "attachments": {},
   "cell_type": "markdown",
   "metadata": {},
   "source": [
    "# 1. Ontology engineering"
   ]
  },
  {
   "attachments": {},
   "cell_type": "markdown",
   "metadata": {},
   "source": [
    "<h1> Population"
   ]
  },
  {
   "cell_type": "code",
   "execution_count": 26,
   "metadata": {},
   "outputs": [],
   "source": [
    "from utils.populator import Populator\n",
    "\n",
    "pop = Populator()\n",
    "pop.populate()"
   ]
  },
  {
   "cell_type": "code",
   "execution_count": 68,
   "metadata": {},
   "outputs": [],
   "source": [
    "RACER_QUERIES = [\n",
    "    '(evaluate(length (all-atomic-concepts)))'\n",
    "    # '(individual-fillers Tetralogy_of_Fallot has-symptom)',\n",
    "    # '(concept-instances CHD)',\n",
    "    # '(concept-instances (some diagnosis-method-at-home-for Arrhythmia))',\n",
    "    # '(concept-instances (some treatment-for Arrhythmia))',\n",
    "    # '(individual-fillers shortness_of_breath  symptom-for)',\n",
    "    # '(individual-fillers chest_pain symptom-for)',\n",
    "    # '(retrieve (?disease) (and (?disease fainting has-symptom) (?disease palpitations has-symptom)))',\n",
    "    # '(retrieve (?disease ?treatment) (and (?disease ?treatment has-treatment) (?treatment Invasive) ) ))'\n",
    "]"
   ]
  },
  {
   "cell_type": "code",
   "execution_count": 69,
   "metadata": {},
   "outputs": [
    {
     "name": "stdout",
     "output_type": "stream",
     "text": [
      "[RACER]: connected...\n",
      "[QUERY]:  evaluate(length (all-atomic-concepts)))(retrieve (?disease ?treatment) (and (?disease ?treatment has-treatment) (?treatment Invasive) ) )  ?\n",
      "[ANSWER]: \n"
     ]
    }
   ],
   "source": [
    "ontology = Ontology(RACER_QUERIES)\n",
    "ontology.run()"
   ]
  },
  {
   "attachments": {},
   "cell_type": "markdown",
   "metadata": {},
   "source": [
    "# Fuzzy Learner"
   ]
  },
  {
   "cell_type": "code",
   "execution_count": 29,
   "metadata": {},
   "outputs": [],
   "source": [
    "FUZZY_QUERIES = [\n",
    "    '(min-instance? TETRALOGY_OF_FALLOT Very_Dangerous_Disease)',\n",
    "    '(min-instance? TETRALOGY_OF_FALLOT Dangerous_Disease)'\n",
    "]"
   ]
  },
  {
   "cell_type": "code",
   "execution_count": 30,
   "metadata": {},
   "outputs": [
    {
     "name": "stdout",
     "output_type": "stream",
     "text": [
      "[FUZZY]:  Is TETRALOGY_OF_FALLOT instance of Very_Dangerous_Disease ? >= 1.0\n",
      "\n",
      "Is TETRALOGY_OF_FALLOT instance of Dangerous_Disease ? >= 1.0\n",
      "\n",
      "Is TETRALOGY_OF_FALLOT instance of Very_Dangerous_Disease ? >= 1.0\n",
      "\n",
      "Is TETRALOGY_OF_FALLOT instance of Dangerous_Disease ? >= 1.0\n",
      "\n",
      "Is TETRALOGY_OF_FALLOT instance of Very_Dangerous_Disease ? >= 1.0\n",
      "\n",
      "Is TETRALOGY_OF_FALLOT instance of Dangerous_Disease ? >= 1.0\n",
      "\n",
      "Is TETRALOGY_OF_FALLOT instance of Very_Dangerous_Disease ? >= 1.0\n",
      "\n",
      "Is TETRALOGY_OF_FALLOT instance of Dangerous_Disease ? >= 1.0\n",
      "\n",
      "Is TETRALOGY_OF_FALLOT instance of Very_Dangerous_Disease ? >= 1.0\n",
      "\n",
      "Is TETRALOGY_OF_FALLOT instance of Dangerous_Disease ? >= 1.0\n",
      "\n",
      "\n"
     ]
    }
   ],
   "source": [
    "fuzzyDL = Fuzzy(FUZZY_QUERIES)\n",
    "fuzzyDL.run()"
   ]
  },
  {
   "attachments": {},
   "cell_type": "markdown",
   "metadata": {},
   "source": [
    "# SparQL "
   ]
  },
  {
   "cell_type": "code",
   "execution_count": 31,
   "metadata": {},
   "outputs": [],
   "source": [
    "SPARQL_QUERIES = [\n",
    "    'SELECT ?x \\\n",
    "        {?x rdfs:subClassOf* <http://www.semanticweb.org/owl/owlapi/turtle#CHD> .}',\n",
    "    \n",
    "    'SELECT DISTINCT ?x ?label from <http://purl.obolibrary.org/obo/merged/DOID> \\\n",
    "    WHERE{\\\n",
    "        ?x rdfs:subClassOf obo-term:DOID_1682.\\\n",
    "        ?x rdfs:label  ?label.}'\n",
    "]"
   ]
  },
  {
   "cell_type": "code",
   "execution_count": 52,
   "metadata": {},
   "outputs": [
    {
     "name": "stdout",
     "output_type": "stream",
     "text": [
      "[SPARQL]: Select subclasses of CHD ?\n",
      "[RESULT]:\n",
      "\n",
      "\t\t\t http://www.semanticweb.org/owl/owlapi/turtle#CHD\n",
      "[SPARQL]: List all concepts of CHD ? \n",
      "[RESULT]:\n",
      "\n",
      "\t\t\t scimitar syndrome\n",
      "\t\t\t tetralogy of Fallot\n",
      "\t\t\t dextrocardia\n",
      "\t\t\t hypoplastic left heart syndrome\n",
      "\t\t\t dextro-looped transposition of the great arteries\n",
      "\t\t\t multiple types of congenital heart defects 6\n",
      "\t\t\t patent ductus arteriosus\n",
      "\t\t\t heart septal defect\n",
      "\t\t\t hypoplastic right heart syndrome\n"
     ]
    }
   ],
   "source": [
    "sprQL = SPARQL(SPARQL_QUERIES)\n",
    "sprQL.run()"
   ]
  }
 ],
 "metadata": {
  "kernelspec": {
   "display_name": "Python 3",
   "language": "python",
   "name": "python3"
  },
  "language_info": {
   "codemirror_mode": {
    "name": "ipython",
    "version": 3
   },
   "file_extension": ".py",
   "mimetype": "text/x-python",
   "name": "python",
   "nbconvert_exporter": "python",
   "pygments_lexer": "ipython3",
   "version": "3.10.11"
  },
  "orig_nbformat": 4
 },
 "nbformat": 4,
 "nbformat_minor": 2
}
